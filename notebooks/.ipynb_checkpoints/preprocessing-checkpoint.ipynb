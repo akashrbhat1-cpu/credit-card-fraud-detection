{
 "cells": [
  {
   "cell_type": "code",
   "execution_count": null,
   "id": "1d298f64-3df7-433e-9dd0-a23d8956c7c9",
   "metadata": {},
   "outputs": [],
   "source": [
    "import pandas as pd\n",
    "from sklearn.model_selection import train_test_split\n",
    "from sklearn.preprocessing import StandardScaler\n",
    "import joblib\n",
    "\n",
    "# ------------------------\n",
    "# STEP 1: Load data\n",
    "# ------------------------\n",
    "df = pd.read_csv(\"/Users/akashbhat/credit-card-fraud-detection/data/raw/creditcard.csv\")\n",
    "\n",
    "# ------------------------\n",
    "# STEP 2: Scale Amount\n",
    "# ------------------------\n",
    "scaler = StandardScaler()\n",
    "df[\"Amount_scaled\"] = scaler.fit_transform(df[[\"Amount\"]])\n",
    "\n",
    "# Drop unused columns\n",
    "X = df.drop(columns=[\"Class\", \"Time\", \"Amount\"])  # features\n",
    "y = df[\"Class\"]  # target\n",
    "\n",
    "# ------------------------\n",
    "# STEP 3: Train-test split\n",
    "# ------------------------\n",
    "X_train, X_test, y_train, y_test = train_test_split(\n",
    "    X, y, test_size=0.2, random_state=42, stratify=y\n",
    ")\n",
    "\n",
    "print(\"Train shape:\", X_train.shape)\n",
    "print(\"Test shape:\", X_test.shape)\n",
    "\n",
    "# ------------------------\n",
    "# STEP 4: Save preprocessing artifacts\n",
    "# ------------------------\n",
    "# Save scaler (fitted on entire dataset for Amount scaling)\n",
    "joblib.dump(scaler, \"/Users/akashbhat/credit-card-fraud-detection/data/scaler.pkl\")\n",
    "\n",
    "# Save feature column order (for inference alignment)\n",
    "feature_columns = X_train.columns.tolist()\n",
    "joblib.dump(feature_columns, \"/Users/akashbhat/credit-card-fraud-detection/data/feature_columns.pkl\")\n",
    "\n",
    "# Optionally save train/test data\n",
    "joblib.dump((X_train, X_test, y_train, y_test),\n",
    "            \"/Users/akashbhat/credit-card-fraud-detection/data/processed_data.pkl\")\n",
    "\n",
    "print(\"✅ Preprocessing complete! Scaler + feature_columns saved.\")\n"
   ]
  }
 ],
 "metadata": {
  "kernelspec": {
   "display_name": "Python [conda env:base] *",
   "language": "python",
   "name": "conda-base-py"
  },
  "language_info": {
   "codemirror_mode": {
    "name": "ipython",
    "version": 3
   },
   "file_extension": ".py",
   "mimetype": "text/x-python",
   "name": "python",
   "nbconvert_exporter": "python",
   "pygments_lexer": "ipython3",
   "version": "3.13.5"
  }
 },
 "nbformat": 4,
 "nbformat_minor": 5
}
